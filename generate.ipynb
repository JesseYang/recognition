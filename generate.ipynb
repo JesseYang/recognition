{
 "cells": [
  {
   "cell_type": "code",
   "execution_count": 1,
   "metadata": {
    "collapsed": true
   },
   "outputs": [],
   "source": [
    "import argparse\n",
    "import os\n",
    "import sys\n",
    "import json\n",
    "import tensorflow as tf\n",
    "from model import RecogModel"
   ]
  },
  {
   "cell_type": "code",
   "execution_count": 2,
   "metadata": {
    "collapsed": true
   },
   "outputs": [],
   "source": [
    "with open(\"./recog_params.json\", 'r') as f:\n",
    "    recog_params = json.load(f)"
   ]
  },
  {
   "cell_type": "code",
   "execution_count": 3,
   "metadata": {
    "collapsed": false
   },
   "outputs": [],
   "source": [
    "net = RecogModel(input_channel=1,\n",
    "                klass=len(recog_params['labels']),\n",
    "                batch_size=1,\n",
    "                network_type=recog_params['network_type'],\n",
    "                ctc_params=recog_params['ctc_params'],\n",
    "                seq2seq_params=recog_params['seq2seq_params'])"
   ]
  },
  {
   "cell_type": "code",
   "execution_count": 4,
   "metadata": {
    "collapsed": true
   },
   "outputs": [],
   "source": [
    "input_image = tf.placeholder(tf.uint8)"
   ]
  },
  {
   "cell_type": "code",
   "execution_count": 5,
   "metadata": {
    "collapsed": false
   },
   "outputs": [],
   "source": [
    "# label_result = net.generate(input_image)\n",
    "\n",
    "image, _, _, _ = net._preprocess(input_data=input_image,\n",
    "                                  generate=True)\n",
    "output = net._create_network(image)\n",
    "_output = tf.transpose(output, perm=[1, 0, 2])\n",
    "label_result = tf.nn.ctc_beam_search_decoder(inputs=_output,\n",
    "                                             sequence_length=tf.expand_dims(tf.shape(output)[1], 0),\n",
    "                                             beam_width=100)\n",
    "# label_result = tf.nn.ctc_greedy_decoder(inputs=_output,\n",
    "#                                              sequence_length=tf.expand_dims(tf.shape(output)[1], 0))\n",
    "test = tf.argmax(input=output, dimension=2)"
   ]
  },
  {
   "cell_type": "code",
   "execution_count": 6,
   "metadata": {
    "collapsed": true
   },
   "outputs": [],
   "source": [
    "sess = tf.Session()"
   ]
  },
  {
   "cell_type": "code",
   "execution_count": 7,
   "metadata": {
    "collapsed": true
   },
   "outputs": [],
   "source": [
    "saver = tf.train.Saver()"
   ]
  },
  {
   "cell_type": "code",
   "execution_count": 8,
   "metadata": {
    "collapsed": true
   },
   "outputs": [],
   "source": [
    "saver.restore(sess, \"model.ckpt-1140\")"
   ]
  },
  {
   "cell_type": "code",
   "execution_count": 9,
   "metadata": {
    "collapsed": true
   },
   "outputs": [],
   "source": [
    "from scipy import misc\n",
    "input_image_data = misc.imread('test.png', mode='L')"
   ]
  },
  {
   "cell_type": "code",
   "execution_count": 10,
   "metadata": {
    "collapsed": false
   },
   "outputs": [],
   "source": [
    "output_data, test_data, label_result_data = sess.run([output, test, label_result], feed_dict={input_image: input_image_data})"
   ]
  },
  {
   "cell_type": "code",
   "execution_count": 11,
   "metadata": {
    "collapsed": false
   },
   "outputs": [
    {
     "name": "stdout",
     "output_type": "stream",
     "text": [
      "fx=10-12+12\n"
     ]
    }
   ],
   "source": [
    "out_label = []\n",
    "for l in label_result_data[0][0].values:\n",
    "    if l < len(recog_params['labels']):\n",
    "        out_label.append(recog_params['labels'][l])\n",
    "    else:\n",
    "        out_label.append(' ')\n",
    "print \"\".join(out_label)"
   ]
  },
  {
   "cell_type": "code",
   "execution_count": null,
   "metadata": {
    "collapsed": true
   },
   "outputs": [],
   "source": []
  }
 ],
 "metadata": {
  "kernelspec": {
   "display_name": "Python 2",
   "language": "python",
   "name": "python2"
  },
  "language_info": {
   "codemirror_mode": {
    "name": "ipython",
    "version": 2
   },
   "file_extension": ".py",
   "mimetype": "text/x-python",
   "name": "python",
   "nbconvert_exporter": "python",
   "pygments_lexer": "ipython2",
   "version": "2.7.6"
  }
 },
 "nbformat": 4,
 "nbformat_minor": 1
}
