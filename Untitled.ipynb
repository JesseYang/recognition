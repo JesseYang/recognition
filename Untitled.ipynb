{
 "cells": [
  {
   "cell_type": "code",
   "execution_count": 36,
   "metadata": {
    "collapsed": false
   },
   "outputs": [],
   "source": [
    "from utils import *\n",
    "from matplotlib import pyplot as plt\n",
    "%matplotlib inline\n",
    "import numpy as np\n",
    "import os\n",
    "from scipy import misc\n",
    "import uuid"
   ]
  },
  {
   "cell_type": "code",
   "execution_count": 37,
   "metadata": {
    "collapsed": false
   },
   "outputs": [],
   "source": [
    "root_dirname = 'LibriSpeech/dev-clean'\n",
    "for dirname in os.listdir(root_dirname):\n",
    "    for sub_dirname in os.listdir(root_dirname + '/' + dirname):\n",
    "        for (dirpath, dirnames, filenames) in os.walk(root_dirname + '/' + dirname + '/' + sub_dirname):\n",
    "            for filename in filenames:\n",
    "                if 'txt' not in filename:\n",
    "                    continue\n",
    "                f = open(root_dirname + '/' + dirname + '/' + sub_dirname + '/' + filename, 'r')\n",
    "                while True:\n",
    "                    line=f.readline()\n",
    "                    if not line: break\n",
    "                    prefix = line[:line.index(' ')]\n",
    "                    content = line[line.index(' ') + 1:]\n",
    "                    x = spectrogram_from_file(root_dirname + '/' + dirname + '/' + sub_dirname + '/' + prefix + '.flac')\n",
    "                    name = str(uuid.uuid4())\n",
    "                    misc.imsave('training_set_speech/images/' + name + '.png', np.transpose(x))\n",
    "                    label_f = open('training_set_speech/labels/' + name + '.txt', 'w')\n",
    "                    label_f.write(content)\n",
    "                    label_f.close()\n",
    "                    if len(content) == 0:\n",
    "                        print root_dirname + '/' + dirname + '/' + sub_dirname + '/' + prefix + '.flac'\n",
    "# x = spectrogram_from_file('LibriSpeech/dev-clean/1272/128104/1272-128104-0005.flac')"
   ]
  },
  {
   "cell_type": "code",
   "execution_count": null,
   "metadata": {
    "collapsed": true
   },
   "outputs": [],
   "source": []
  }
 ],
 "metadata": {
  "kernelspec": {
   "display_name": "Python 2",
   "language": "python",
   "name": "python2"
  },
  "language_info": {
   "codemirror_mode": {
    "name": "ipython",
    "version": 2
   },
   "file_extension": ".py",
   "mimetype": "text/x-python",
   "name": "python",
   "nbconvert_exporter": "python",
   "pygments_lexer": "ipython2",
   "version": "2.7.6"
  }
 },
 "nbformat": 4,
 "nbformat_minor": 1
}
