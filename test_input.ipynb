{
 "cells": [
  {
   "cell_type": "code",
   "execution_count": 1,
   "metadata": {
    "collapsed": false
   },
   "outputs": [],
   "source": [
    "import tensorflow as tf\n",
    "from reader import create_inputs\n",
    "import json\n",
    "import os\n",
    "from model import RecogModel"
   ]
  },
  {
   "cell_type": "code",
   "execution_count": 2,
   "metadata": {
    "collapsed": false
   },
   "outputs": [],
   "source": [
    "param_filename = \"recog_params.json\"\n",
    "with open(param_filename, 'r') as f:\n",
    "        recog_params = json.load(f)"
   ]
  },
  {
   "cell_type": "code",
   "execution_count": 3,
   "metadata": {
    "collapsed": false
   },
   "outputs": [],
   "source": [
    "image, label_value, label_shape, label_index = create_inputs(input_channel=1,\n",
    "                                                             labels=recog_params['labels'],\n",
    "                                                             dilations=recog_params['ctc_params']['cnn']['dilations'])\n",
    "\n",
    "queue = tf.FIFOQueue(256, ['uint8', 'uint8', 'uint8', 'uint8'])\n",
    "enqueue = queue.enqueue([image, label_value, label_shape, label_index])\n",
    "input_data = queue.dequeue()"
   ]
  },
  {
   "cell_type": "code",
   "execution_count": 4,
   "metadata": {
    "collapsed": true
   },
   "outputs": [],
   "source": [
    "net = RecogModel(input_channel=1,\n",
    "                klass=len(recog_params['labels']),\n",
    "                batch_size=1,\n",
    "                network_type=recog_params['network_type'],\n",
    "                ctc_params=recog_params['ctc_params'],\n",
    "                seq2seq_params=recog_params['seq2seq_params'])\n",
    "\n",
    "image, label_value, label_shape, label_index = net._preprocess(input_data)\n",
    "output = net._create_network(image)\n",
    "\n",
    "sess = tf.Session()\n",
    "init = tf.initialize_all_variables()\n",
    "sess.run(init)\n",
    "\n",
    "coord = tf.train.Coordinator()\n",
    "qr = tf.train.QueueRunner(queue, [enqueue])\n",
    "qr.create_threads(sess, coord=coord, start=True)\n",
    "threads = tf.train.start_queue_runners(sess=sess, coord=coord)"
   ]
  },
  {
   "cell_type": "code",
   "execution_count": 5,
   "metadata": {
    "collapsed": false
   },
   "outputs": [],
   "source": [
    "output = tf.reshape(output, [net.batch_size, -1, net.klass + 1])\n",
    "sparse_label = tf.SparseTensor(label_index, label_value, label_shape)\n",
    "loss = tf.nn.ctc_loss(inputs=output,\n",
    "                      labels=sparse_label,\n",
    "                      sequence_length=tf.expand_dims(tf.shape(output)[1], 0),\n",
    "                      time_major=False)\n",
    "reduced_loss = tf.reduce_mean(loss)\n",
    "output_data, loss_data, reduced_loss_data = sess.run([output, loss, reduced_loss])"
   ]
  },
  {
   "cell_type": "code",
   "execution_count": 6,
   "metadata": {
    "collapsed": false
   },
   "outputs": [
    {
     "data": {
      "text/plain": [
       "125.53495"
      ]
     },
     "execution_count": 6,
     "metadata": {},
     "output_type": "execute_result"
    }
   ],
   "source": [
    "output_data.shape\n",
    "loss_data\n",
    "reduced_loss_data"
   ]
  },
  {
   "cell_type": "code",
   "execution_count": null,
   "metadata": {
    "collapsed": true
   },
   "outputs": [],
   "source": []
  }
 ],
 "metadata": {
  "kernelspec": {
   "display_name": "Python 2",
   "language": "python",
   "name": "python2"
  },
  "language_info": {
   "codemirror_mode": {
    "name": "ipython",
    "version": 2
   },
   "file_extension": ".py",
   "mimetype": "text/x-python",
   "name": "python",
   "nbconvert_exporter": "python",
   "pygments_lexer": "ipython2",
   "version": "2.7.6"
  }
 },
 "nbformat": 4,
 "nbformat_minor": 1
}
